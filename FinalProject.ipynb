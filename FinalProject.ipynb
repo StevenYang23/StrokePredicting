{
 "cells": [
  {
   "cell_type": "markdown",
   "metadata": {},
   "source": [
    "# Data preprocessing"
   ]
  },
  {
   "cell_type": "markdown",
   "metadata": {},
   "source": [
    "There are the factors for having a stroke<br>\n",
    "A: gender (0:male,1:female)<br>\n",
    "B: age<br>\n",
    "C: hypertension (0:doesn't have,1:has)<br>\n",
    "D: heart_disease (0:doesn't have,1:has)<br>\n",
    "E: ever_married (0:no,1:yes)<br>\n",
    "   work_type is ignored<br>\n",
    "F: Residence_type (0:Rural,1:Urban)<br>\n",
    "G: avg_glucose_level<br>\n",
    "H: bmi<br>\n",
    "I: smoking_status (0:never smoked, 1:formerly smoked, 2:smokes)  \"unknown\" is ignored<br>\n",
    "J: stroke(0:no stroke,1:has a stroke)<br>\n",
    "<br>\n",
    "\"ignored\" means data is taken out of dataset<br>"
   ]
  },
  {
   "cell_type": "code",
   "execution_count": 391,
   "metadata": {},
   "outputs": [
    {
     "data": {
      "text/html": [
       "<div>\n",
       "<style scoped>\n",
       "    .dataframe tbody tr th:only-of-type {\n",
       "        vertical-align: middle;\n",
       "    }\n",
       "\n",
       "    .dataframe tbody tr th {\n",
       "        vertical-align: top;\n",
       "    }\n",
       "\n",
       "    .dataframe thead th {\n",
       "        text-align: right;\n",
       "    }\n",
       "</style>\n",
       "<table border=\"1\" class=\"dataframe\">\n",
       "  <thead>\n",
       "    <tr style=\"text-align: right;\">\n",
       "      <th></th>\n",
       "      <th>Gender</th>\n",
       "      <th>Age</th>\n",
       "      <th>Hypertension</th>\n",
       "      <th>Heart_Disease</th>\n",
       "      <th>Ever_Married</th>\n",
       "      <th>Residence</th>\n",
       "      <th>Avg_Glucose_Level</th>\n",
       "      <th>BMI</th>\n",
       "      <th>Smoking_Status</th>\n",
       "      <th>Stroke</th>\n",
       "    </tr>\n",
       "  </thead>\n",
       "  <tbody>\n",
       "    <tr>\n",
       "      <th>0</th>\n",
       "      <td>0</td>\n",
       "      <td>56.0</td>\n",
       "      <td>1</td>\n",
       "      <td>0</td>\n",
       "      <td>1</td>\n",
       "      <td>0</td>\n",
       "      <td>249.31</td>\n",
       "      <td>35.8</td>\n",
       "      <td>0</td>\n",
       "      <td>1</td>\n",
       "    </tr>\n",
       "    <tr>\n",
       "      <th>1</th>\n",
       "      <td>0</td>\n",
       "      <td>27.0</td>\n",
       "      <td>0</td>\n",
       "      <td>0</td>\n",
       "      <td>0</td>\n",
       "      <td>0</td>\n",
       "      <td>63.53</td>\n",
       "      <td>26.9</td>\n",
       "      <td>0</td>\n",
       "      <td>0</td>\n",
       "    </tr>\n",
       "    <tr>\n",
       "      <th>2</th>\n",
       "      <td>1</td>\n",
       "      <td>28.0</td>\n",
       "      <td>0</td>\n",
       "      <td>0</td>\n",
       "      <td>1</td>\n",
       "      <td>0</td>\n",
       "      <td>95.52</td>\n",
       "      <td>28.9</td>\n",
       "      <td>0</td>\n",
       "      <td>0</td>\n",
       "    </tr>\n",
       "    <tr>\n",
       "      <th>3</th>\n",
       "      <td>0</td>\n",
       "      <td>63.0</td>\n",
       "      <td>0</td>\n",
       "      <td>0</td>\n",
       "      <td>1</td>\n",
       "      <td>1</td>\n",
       "      <td>66.13</td>\n",
       "      <td>46.2</td>\n",
       "      <td>0</td>\n",
       "      <td>0</td>\n",
       "    </tr>\n",
       "    <tr>\n",
       "      <th>4</th>\n",
       "      <td>1</td>\n",
       "      <td>43.0</td>\n",
       "      <td>0</td>\n",
       "      <td>0</td>\n",
       "      <td>1</td>\n",
       "      <td>1</td>\n",
       "      <td>75.77</td>\n",
       "      <td>20.4</td>\n",
       "      <td>1</td>\n",
       "      <td>0</td>\n",
       "    </tr>\n",
       "    <tr>\n",
       "      <th>...</th>\n",
       "      <td>...</td>\n",
       "      <td>...</td>\n",
       "      <td>...</td>\n",
       "      <td>...</td>\n",
       "      <td>...</td>\n",
       "      <td>...</td>\n",
       "      <td>...</td>\n",
       "      <td>...</td>\n",
       "      <td>...</td>\n",
       "      <td>...</td>\n",
       "    </tr>\n",
       "    <tr>\n",
       "      <th>3420</th>\n",
       "      <td>1</td>\n",
       "      <td>64.0</td>\n",
       "      <td>0</td>\n",
       "      <td>1</td>\n",
       "      <td>1</td>\n",
       "      <td>0</td>\n",
       "      <td>114.71</td>\n",
       "      <td>30.6</td>\n",
       "      <td>0</td>\n",
       "      <td>0</td>\n",
       "    </tr>\n",
       "    <tr>\n",
       "      <th>3421</th>\n",
       "      <td>1</td>\n",
       "      <td>29.0</td>\n",
       "      <td>0</td>\n",
       "      <td>0</td>\n",
       "      <td>1</td>\n",
       "      <td>1</td>\n",
       "      <td>112.08</td>\n",
       "      <td>27.4</td>\n",
       "      <td>0</td>\n",
       "      <td>0</td>\n",
       "    </tr>\n",
       "    <tr>\n",
       "      <th>3422</th>\n",
       "      <td>1</td>\n",
       "      <td>34.0</td>\n",
       "      <td>0</td>\n",
       "      <td>0</td>\n",
       "      <td>1</td>\n",
       "      <td>1</td>\n",
       "      <td>113.26</td>\n",
       "      <td>27.6</td>\n",
       "      <td>0</td>\n",
       "      <td>0</td>\n",
       "    </tr>\n",
       "    <tr>\n",
       "      <th>3423</th>\n",
       "      <td>1</td>\n",
       "      <td>23.0</td>\n",
       "      <td>0</td>\n",
       "      <td>0</td>\n",
       "      <td>0</td>\n",
       "      <td>1</td>\n",
       "      <td>105.28</td>\n",
       "      <td>27.1</td>\n",
       "      <td>1</td>\n",
       "      <td>0</td>\n",
       "    </tr>\n",
       "    <tr>\n",
       "      <th>3424</th>\n",
       "      <td>0</td>\n",
       "      <td>75.0</td>\n",
       "      <td>1</td>\n",
       "      <td>0</td>\n",
       "      <td>1</td>\n",
       "      <td>1</td>\n",
       "      <td>221.29</td>\n",
       "      <td>25.8</td>\n",
       "      <td>2</td>\n",
       "      <td>1</td>\n",
       "    </tr>\n",
       "  </tbody>\n",
       "</table>\n",
       "<p>3425 rows × 10 columns</p>\n",
       "</div>"
      ],
      "text/plain": [
       "     Gender   Age  Hypertension  Heart_Disease  Ever_Married  Residence  \\\n",
       "0         0  56.0             1              0             1          0   \n",
       "1         0  27.0             0              0             0          0   \n",
       "2         1  28.0             0              0             1          0   \n",
       "3         0  63.0             0              0             1          1   \n",
       "4         1  43.0             0              0             1          1   \n",
       "...     ...   ...           ...            ...           ...        ...   \n",
       "3420      1  64.0             0              1             1          0   \n",
       "3421      1  29.0             0              0             1          1   \n",
       "3422      1  34.0             0              0             1          1   \n",
       "3423      1  23.0             0              0             0          1   \n",
       "3424      0  75.0             1              0             1          1   \n",
       "\n",
       "      Avg_Glucose_Level   BMI Smoking_Status  Stroke  \n",
       "0                249.31  35.8              0       1  \n",
       "1                 63.53  26.9              0       0  \n",
       "2                 95.52  28.9              0       0  \n",
       "3                 66.13  46.2              0       0  \n",
       "4                 75.77  20.4              1       0  \n",
       "...                 ...   ...            ...     ...  \n",
       "3420             114.71  30.6              0       0  \n",
       "3421             112.08  27.4              0       0  \n",
       "3422             113.26  27.6              0       0  \n",
       "3423             105.28  27.1              1       0  \n",
       "3424             221.29  25.8              2       1  \n",
       "\n",
       "[3425 rows x 10 columns]"
      ]
     },
     "execution_count": 391,
     "metadata": {},
     "output_type": "execute_result"
    }
   ],
   "source": [
    "import pandas as pd\n",
    "df = pd.read_csv(\"healthcare-dataset-stroke-data.csv\")\n",
    "\n",
    "gender = pd.Series(df[\"gender\"])\n",
    "gender = gender.replace({\"Male\":0, \"Female\":1,\"Other\":pd.NA})\n",
    "age = pd.Series(df[\"age\"])\n",
    "hypertension = pd.Series(df[\"hypertension\"])\n",
    "heart_disease = pd.Series(df[\"heart_disease\"])\n",
    "ever_married = pd.Series(df[\"ever_married\"])\n",
    "ever_married = ever_married.replace({\"No\":0, \"Yes\":1})\n",
    "residence = pd.Series(df[\"Residence_type\"])\n",
    "residence = residence.replace({\"Rural\":0,\"Urban\":1})\n",
    "avg_glucose_level = pd.Series(df[\"avg_glucose_level\"])\n",
    "bmi = pd.Series(df[\"bmi\"])\n",
    "bmi = bmi.replace(\"N/A\",pd.NA)\n",
    "smoking_status = pd.Series(df[\"smoking_status\"])\n",
    "smoking_status = smoking_status.replace({\"never smoked\":0,\"formerly smoked\":1,\"smokes\":2,\"Unknown\":pd.NA})\n",
    "stroke = pd.Series(df[\"stroke\"])\n",
    "\n",
    "dataset = pd.DataFrame({\"Gender\": gender, \"Age\": age, \"Hypertension\": hypertension, \"Heart_Disease\": heart_disease, \"Ever_Married\": ever_married, \"Residence\": residence, \"Avg_Glucose_Level\": avg_glucose_level, \"BMI\": bmi, \"Smoking_Status\": smoking_status, \"Stroke\": stroke})\n",
    "dataset = dataset.dropna(how='any')\n",
    "dataset = dataset.sample(frac=1)\n",
    "dataset.reset_index(drop=True, inplace=True)\n",
    "dataset.to_csv(\"FinalDataset.csv\", index=False)\n",
    "dataset\n",
    "\n"
   ]
  },
  {
   "cell_type": "markdown",
   "metadata": {},
   "source": [
    "There are 3425 patients' data. After shuffling the rows, we are the first 3200 rows are training data, and 224 rows are testing data, and the last row is the one we are trying to predict."
   ]
  },
  {
   "cell_type": "code",
   "execution_count": 392,
   "metadata": {},
   "outputs": [],
   "source": [
    "x = dataset.iloc[:,:-1]\n",
    "y= dataset.iloc[:,-1]\n",
    "x_train = x.iloc[:3200]\n",
    "y_train = y.iloc[:3200]\n",
    "x_valid = x.iloc[3200:3420]\n",
    "y_valid = y.iloc[3200:3420]\n",
    "x_test = x.iloc[3420:]\n",
    "y_test = y.iloc[3420:]\n"
   ]
  },
  {
   "cell_type": "markdown",
   "metadata": {},
   "source": [
    "# Train"
   ]
  },
  {
   "cell_type": "markdown",
   "metadata": {},
   "source": [
    "Train our Logistic Regression without regularization"
   ]
  },
  {
   "cell_type": "code",
   "execution_count": 393,
   "metadata": {},
   "outputs": [
    {
     "name": "stderr",
     "output_type": "stream",
     "text": [
      "c:\\Users\\16923\\AppData\\Local\\Programs\\Python\\Python39\\lib\\site-packages\\sklearn\\linear_model\\_logistic.py:1182: FutureWarning: `penalty='none'`has been deprecated in 1.2 and will be removed in 1.4. To keep the past behaviour, set `penalty=None`.\n",
      "  warnings.warn(\n",
      "c:\\Users\\16923\\AppData\\Local\\Programs\\Python\\Python39\\lib\\site-packages\\sklearn\\linear_model\\_logistic.py:460: ConvergenceWarning: lbfgs failed to converge (status=1):\n",
      "STOP: TOTAL NO. of ITERATIONS REACHED LIMIT.\n",
      "\n",
      "Increase the number of iterations (max_iter) or scale the data as shown in:\n",
      "    https://scikit-learn.org/stable/modules/preprocessing.html\n",
      "Please also refer to the documentation for alternative solver options:\n",
      "    https://scikit-learn.org/stable/modules/linear_model.html#logistic-regression\n",
      "  n_iter_i = _check_optimize_result(\n"
     ]
    },
    {
     "data": {
      "text/html": [
       "<style>#sk-container-id-119 {color: black;}#sk-container-id-119 pre{padding: 0;}#sk-container-id-119 div.sk-toggleable {background-color: white;}#sk-container-id-119 label.sk-toggleable__label {cursor: pointer;display: block;width: 100%;margin-bottom: 0;padding: 0.3em;box-sizing: border-box;text-align: center;}#sk-container-id-119 label.sk-toggleable__label-arrow:before {content: \"▸\";float: left;margin-right: 0.25em;color: #696969;}#sk-container-id-119 label.sk-toggleable__label-arrow:hover:before {color: black;}#sk-container-id-119 div.sk-estimator:hover label.sk-toggleable__label-arrow:before {color: black;}#sk-container-id-119 div.sk-toggleable__content {max-height: 0;max-width: 0;overflow: hidden;text-align: left;background-color: #f0f8ff;}#sk-container-id-119 div.sk-toggleable__content pre {margin: 0.2em;color: black;border-radius: 0.25em;background-color: #f0f8ff;}#sk-container-id-119 input.sk-toggleable__control:checked~div.sk-toggleable__content {max-height: 200px;max-width: 100%;overflow: auto;}#sk-container-id-119 input.sk-toggleable__control:checked~label.sk-toggleable__label-arrow:before {content: \"▾\";}#sk-container-id-119 div.sk-estimator input.sk-toggleable__control:checked~label.sk-toggleable__label {background-color: #d4ebff;}#sk-container-id-119 div.sk-label input.sk-toggleable__control:checked~label.sk-toggleable__label {background-color: #d4ebff;}#sk-container-id-119 input.sk-hidden--visually {border: 0;clip: rect(1px 1px 1px 1px);clip: rect(1px, 1px, 1px, 1px);height: 1px;margin: -1px;overflow: hidden;padding: 0;position: absolute;width: 1px;}#sk-container-id-119 div.sk-estimator {font-family: monospace;background-color: #f0f8ff;border: 1px dotted black;border-radius: 0.25em;box-sizing: border-box;margin-bottom: 0.5em;}#sk-container-id-119 div.sk-estimator:hover {background-color: #d4ebff;}#sk-container-id-119 div.sk-parallel-item::after {content: \"\";width: 100%;border-bottom: 1px solid gray;flex-grow: 1;}#sk-container-id-119 div.sk-label:hover label.sk-toggleable__label {background-color: #d4ebff;}#sk-container-id-119 div.sk-serial::before {content: \"\";position: absolute;border-left: 1px solid gray;box-sizing: border-box;top: 0;bottom: 0;left: 50%;z-index: 0;}#sk-container-id-119 div.sk-serial {display: flex;flex-direction: column;align-items: center;background-color: white;padding-right: 0.2em;padding-left: 0.2em;position: relative;}#sk-container-id-119 div.sk-item {position: relative;z-index: 1;}#sk-container-id-119 div.sk-parallel {display: flex;align-items: stretch;justify-content: center;background-color: white;position: relative;}#sk-container-id-119 div.sk-item::before, #sk-container-id-119 div.sk-parallel-item::before {content: \"\";position: absolute;border-left: 1px solid gray;box-sizing: border-box;top: 0;bottom: 0;left: 50%;z-index: -1;}#sk-container-id-119 div.sk-parallel-item {display: flex;flex-direction: column;z-index: 1;position: relative;background-color: white;}#sk-container-id-119 div.sk-parallel-item:first-child::after {align-self: flex-end;width: 50%;}#sk-container-id-119 div.sk-parallel-item:last-child::after {align-self: flex-start;width: 50%;}#sk-container-id-119 div.sk-parallel-item:only-child::after {width: 0;}#sk-container-id-119 div.sk-dashed-wrapped {border: 1px dashed gray;margin: 0 0.4em 0.5em 0.4em;box-sizing: border-box;padding-bottom: 0.4em;background-color: white;}#sk-container-id-119 div.sk-label label {font-family: monospace;font-weight: bold;display: inline-block;line-height: 1.2em;}#sk-container-id-119 div.sk-label-container {text-align: center;}#sk-container-id-119 div.sk-container {/* jupyter's `normalize.less` sets `[hidden] { display: none; }` but bootstrap.min.css set `[hidden] { display: none !important; }` so we also need the `!important` here to be able to override the default hidden behavior on the sphinx rendered scikit-learn.org. See: https://github.com/scikit-learn/scikit-learn/issues/21755 */display: inline-block !important;position: relative;}#sk-container-id-119 div.sk-text-repr-fallback {display: none;}</style><div id=\"sk-container-id-119\" class=\"sk-top-container\"><div class=\"sk-text-repr-fallback\"><pre>LogisticRegression(penalty=&#x27;none&#x27;)</pre><b>In a Jupyter environment, please rerun this cell to show the HTML representation or trust the notebook. <br />On GitHub, the HTML representation is unable to render, please try loading this page with nbviewer.org.</b></div><div class=\"sk-container\" hidden><div class=\"sk-item\"><div class=\"sk-estimator sk-toggleable\"><input class=\"sk-toggleable__control sk-hidden--visually\" id=\"sk-estimator-id-119\" type=\"checkbox\" checked><label for=\"sk-estimator-id-119\" class=\"sk-toggleable__label sk-toggleable__label-arrow\">LogisticRegression</label><div class=\"sk-toggleable__content\"><pre>LogisticRegression(penalty=&#x27;none&#x27;)</pre></div></div></div></div></div>"
      ],
      "text/plain": [
       "LogisticRegression(penalty='none')"
      ]
     },
     "execution_count": 393,
     "metadata": {},
     "output_type": "execute_result"
    }
   ],
   "source": [
    "from sklearn.linear_model import LogisticRegression\n",
    "model = LogisticRegression(penalty=\"none\")\n",
    "model.fit(x_train,y_train)\n"
   ]
  },
  {
   "cell_type": "markdown",
   "metadata": {},
   "source": [
    "Train our Logistic Regression with l2 regularization"
   ]
  },
  {
   "cell_type": "code",
   "execution_count": 394,
   "metadata": {},
   "outputs": [
    {
     "name": "stderr",
     "output_type": "stream",
     "text": [
      "c:\\Users\\16923\\AppData\\Local\\Programs\\Python\\Python39\\lib\\site-packages\\sklearn\\svm\\_base.py:1242: ConvergenceWarning: Liblinear failed to converge, increase the number of iterations.\n",
      "  warnings.warn(\n"
     ]
    },
    {
     "data": {
      "text/html": [
       "<style>#sk-container-id-120 {color: black;}#sk-container-id-120 pre{padding: 0;}#sk-container-id-120 div.sk-toggleable {background-color: white;}#sk-container-id-120 label.sk-toggleable__label {cursor: pointer;display: block;width: 100%;margin-bottom: 0;padding: 0.3em;box-sizing: border-box;text-align: center;}#sk-container-id-120 label.sk-toggleable__label-arrow:before {content: \"▸\";float: left;margin-right: 0.25em;color: #696969;}#sk-container-id-120 label.sk-toggleable__label-arrow:hover:before {color: black;}#sk-container-id-120 div.sk-estimator:hover label.sk-toggleable__label-arrow:before {color: black;}#sk-container-id-120 div.sk-toggleable__content {max-height: 0;max-width: 0;overflow: hidden;text-align: left;background-color: #f0f8ff;}#sk-container-id-120 div.sk-toggleable__content pre {margin: 0.2em;color: black;border-radius: 0.25em;background-color: #f0f8ff;}#sk-container-id-120 input.sk-toggleable__control:checked~div.sk-toggleable__content {max-height: 200px;max-width: 100%;overflow: auto;}#sk-container-id-120 input.sk-toggleable__control:checked~label.sk-toggleable__label-arrow:before {content: \"▾\";}#sk-container-id-120 div.sk-estimator input.sk-toggleable__control:checked~label.sk-toggleable__label {background-color: #d4ebff;}#sk-container-id-120 div.sk-label input.sk-toggleable__control:checked~label.sk-toggleable__label {background-color: #d4ebff;}#sk-container-id-120 input.sk-hidden--visually {border: 0;clip: rect(1px 1px 1px 1px);clip: rect(1px, 1px, 1px, 1px);height: 1px;margin: -1px;overflow: hidden;padding: 0;position: absolute;width: 1px;}#sk-container-id-120 div.sk-estimator {font-family: monospace;background-color: #f0f8ff;border: 1px dotted black;border-radius: 0.25em;box-sizing: border-box;margin-bottom: 0.5em;}#sk-container-id-120 div.sk-estimator:hover {background-color: #d4ebff;}#sk-container-id-120 div.sk-parallel-item::after {content: \"\";width: 100%;border-bottom: 1px solid gray;flex-grow: 1;}#sk-container-id-120 div.sk-label:hover label.sk-toggleable__label {background-color: #d4ebff;}#sk-container-id-120 div.sk-serial::before {content: \"\";position: absolute;border-left: 1px solid gray;box-sizing: border-box;top: 0;bottom: 0;left: 50%;z-index: 0;}#sk-container-id-120 div.sk-serial {display: flex;flex-direction: column;align-items: center;background-color: white;padding-right: 0.2em;padding-left: 0.2em;position: relative;}#sk-container-id-120 div.sk-item {position: relative;z-index: 1;}#sk-container-id-120 div.sk-parallel {display: flex;align-items: stretch;justify-content: center;background-color: white;position: relative;}#sk-container-id-120 div.sk-item::before, #sk-container-id-120 div.sk-parallel-item::before {content: \"\";position: absolute;border-left: 1px solid gray;box-sizing: border-box;top: 0;bottom: 0;left: 50%;z-index: -1;}#sk-container-id-120 div.sk-parallel-item {display: flex;flex-direction: column;z-index: 1;position: relative;background-color: white;}#sk-container-id-120 div.sk-parallel-item:first-child::after {align-self: flex-end;width: 50%;}#sk-container-id-120 div.sk-parallel-item:last-child::after {align-self: flex-start;width: 50%;}#sk-container-id-120 div.sk-parallel-item:only-child::after {width: 0;}#sk-container-id-120 div.sk-dashed-wrapped {border: 1px dashed gray;margin: 0 0.4em 0.5em 0.4em;box-sizing: border-box;padding-bottom: 0.4em;background-color: white;}#sk-container-id-120 div.sk-label label {font-family: monospace;font-weight: bold;display: inline-block;line-height: 1.2em;}#sk-container-id-120 div.sk-label-container {text-align: center;}#sk-container-id-120 div.sk-container {/* jupyter's `normalize.less` sets `[hidden] { display: none; }` but bootstrap.min.css set `[hidden] { display: none !important; }` so we also need the `!important` here to be able to override the default hidden behavior on the sphinx rendered scikit-learn.org. See: https://github.com/scikit-learn/scikit-learn/issues/21755 */display: inline-block !important;position: relative;}#sk-container-id-120 div.sk-text-repr-fallback {display: none;}</style><div id=\"sk-container-id-120\" class=\"sk-top-container\"><div class=\"sk-text-repr-fallback\"><pre>LogisticRegression(C=0.001, dual=True, solver=&#x27;liblinear&#x27;)</pre><b>In a Jupyter environment, please rerun this cell to show the HTML representation or trust the notebook. <br />On GitHub, the HTML representation is unable to render, please try loading this page with nbviewer.org.</b></div><div class=\"sk-container\" hidden><div class=\"sk-item\"><div class=\"sk-estimator sk-toggleable\"><input class=\"sk-toggleable__control sk-hidden--visually\" id=\"sk-estimator-id-120\" type=\"checkbox\" checked><label for=\"sk-estimator-id-120\" class=\"sk-toggleable__label sk-toggleable__label-arrow\">LogisticRegression</label><div class=\"sk-toggleable__content\"><pre>LogisticRegression(C=0.001, dual=True, solver=&#x27;liblinear&#x27;)</pre></div></div></div></div></div>"
      ],
      "text/plain": [
       "LogisticRegression(C=0.001, dual=True, solver='liblinear')"
      ]
     },
     "execution_count": 394,
     "metadata": {},
     "output_type": "execute_result"
    }
   ],
   "source": [
    "model_l2 = LogisticRegression(penalty='l2', C=0.001,dual=True,solver=\"liblinear\")\n",
    "model_l2.fit(x_train,y_train)"
   ]
  },
  {
   "cell_type": "markdown",
   "metadata": {},
   "source": [
    "Train our Logistic Regression with l1 regularization"
   ]
  },
  {
   "cell_type": "code",
   "execution_count": 395,
   "metadata": {},
   "outputs": [
    {
     "data": {
      "text/html": [
       "<style>#sk-container-id-121 {color: black;}#sk-container-id-121 pre{padding: 0;}#sk-container-id-121 div.sk-toggleable {background-color: white;}#sk-container-id-121 label.sk-toggleable__label {cursor: pointer;display: block;width: 100%;margin-bottom: 0;padding: 0.3em;box-sizing: border-box;text-align: center;}#sk-container-id-121 label.sk-toggleable__label-arrow:before {content: \"▸\";float: left;margin-right: 0.25em;color: #696969;}#sk-container-id-121 label.sk-toggleable__label-arrow:hover:before {color: black;}#sk-container-id-121 div.sk-estimator:hover label.sk-toggleable__label-arrow:before {color: black;}#sk-container-id-121 div.sk-toggleable__content {max-height: 0;max-width: 0;overflow: hidden;text-align: left;background-color: #f0f8ff;}#sk-container-id-121 div.sk-toggleable__content pre {margin: 0.2em;color: black;border-radius: 0.25em;background-color: #f0f8ff;}#sk-container-id-121 input.sk-toggleable__control:checked~div.sk-toggleable__content {max-height: 200px;max-width: 100%;overflow: auto;}#sk-container-id-121 input.sk-toggleable__control:checked~label.sk-toggleable__label-arrow:before {content: \"▾\";}#sk-container-id-121 div.sk-estimator input.sk-toggleable__control:checked~label.sk-toggleable__label {background-color: #d4ebff;}#sk-container-id-121 div.sk-label input.sk-toggleable__control:checked~label.sk-toggleable__label {background-color: #d4ebff;}#sk-container-id-121 input.sk-hidden--visually {border: 0;clip: rect(1px 1px 1px 1px);clip: rect(1px, 1px, 1px, 1px);height: 1px;margin: -1px;overflow: hidden;padding: 0;position: absolute;width: 1px;}#sk-container-id-121 div.sk-estimator {font-family: monospace;background-color: #f0f8ff;border: 1px dotted black;border-radius: 0.25em;box-sizing: border-box;margin-bottom: 0.5em;}#sk-container-id-121 div.sk-estimator:hover {background-color: #d4ebff;}#sk-container-id-121 div.sk-parallel-item::after {content: \"\";width: 100%;border-bottom: 1px solid gray;flex-grow: 1;}#sk-container-id-121 div.sk-label:hover label.sk-toggleable__label {background-color: #d4ebff;}#sk-container-id-121 div.sk-serial::before {content: \"\";position: absolute;border-left: 1px solid gray;box-sizing: border-box;top: 0;bottom: 0;left: 50%;z-index: 0;}#sk-container-id-121 div.sk-serial {display: flex;flex-direction: column;align-items: center;background-color: white;padding-right: 0.2em;padding-left: 0.2em;position: relative;}#sk-container-id-121 div.sk-item {position: relative;z-index: 1;}#sk-container-id-121 div.sk-parallel {display: flex;align-items: stretch;justify-content: center;background-color: white;position: relative;}#sk-container-id-121 div.sk-item::before, #sk-container-id-121 div.sk-parallel-item::before {content: \"\";position: absolute;border-left: 1px solid gray;box-sizing: border-box;top: 0;bottom: 0;left: 50%;z-index: -1;}#sk-container-id-121 div.sk-parallel-item {display: flex;flex-direction: column;z-index: 1;position: relative;background-color: white;}#sk-container-id-121 div.sk-parallel-item:first-child::after {align-self: flex-end;width: 50%;}#sk-container-id-121 div.sk-parallel-item:last-child::after {align-self: flex-start;width: 50%;}#sk-container-id-121 div.sk-parallel-item:only-child::after {width: 0;}#sk-container-id-121 div.sk-dashed-wrapped {border: 1px dashed gray;margin: 0 0.4em 0.5em 0.4em;box-sizing: border-box;padding-bottom: 0.4em;background-color: white;}#sk-container-id-121 div.sk-label label {font-family: monospace;font-weight: bold;display: inline-block;line-height: 1.2em;}#sk-container-id-121 div.sk-label-container {text-align: center;}#sk-container-id-121 div.sk-container {/* jupyter's `normalize.less` sets `[hidden] { display: none; }` but bootstrap.min.css set `[hidden] { display: none !important; }` so we also need the `!important` here to be able to override the default hidden behavior on the sphinx rendered scikit-learn.org. See: https://github.com/scikit-learn/scikit-learn/issues/21755 */display: inline-block !important;position: relative;}#sk-container-id-121 div.sk-text-repr-fallback {display: none;}</style><div id=\"sk-container-id-121\" class=\"sk-top-container\"><div class=\"sk-text-repr-fallback\"><pre>LogisticRegression(C=0.001, penalty=&#x27;l1&#x27;, solver=&#x27;liblinear&#x27;)</pre><b>In a Jupyter environment, please rerun this cell to show the HTML representation or trust the notebook. <br />On GitHub, the HTML representation is unable to render, please try loading this page with nbviewer.org.</b></div><div class=\"sk-container\" hidden><div class=\"sk-item\"><div class=\"sk-estimator sk-toggleable\"><input class=\"sk-toggleable__control sk-hidden--visually\" id=\"sk-estimator-id-121\" type=\"checkbox\" checked><label for=\"sk-estimator-id-121\" class=\"sk-toggleable__label sk-toggleable__label-arrow\">LogisticRegression</label><div class=\"sk-toggleable__content\"><pre>LogisticRegression(C=0.001, penalty=&#x27;l1&#x27;, solver=&#x27;liblinear&#x27;)</pre></div></div></div></div></div>"
      ],
      "text/plain": [
       "LogisticRegression(C=0.001, penalty='l1', solver='liblinear')"
      ]
     },
     "execution_count": 395,
     "metadata": {},
     "output_type": "execute_result"
    }
   ],
   "source": [
    "model_l1 = LogisticRegression(penalty='l1',C=0.001, solver = \"liblinear\")\n",
    "model_l1.fit(x_train,y_train)"
   ]
  },
  {
   "cell_type": "markdown",
   "metadata": {},
   "source": [
    "# Evaluation"
   ]
  },
  {
   "cell_type": "code",
   "execution_count": 396,
   "metadata": {},
   "outputs": [
    {
     "name": "stdout",
     "output_type": "stream",
     "text": [
      "The score of how model fits the training data is 94.81\n",
      "The score of how model_l2 fits the training data is 94.81\n",
      "The score of how model_l1 fits the training data is 94.81\n"
     ]
    }
   ],
   "source": [
    "print(f\"The score of how model fits the training data is {model.score(x_train,y_train)*100:.2f}\")\n",
    "print(f\"The score of how model_l2 fits the training data is {model_l2.score(x_train,y_train)*100:.2f}\")\n",
    "print(f\"The score of how model_l1 fits the training data is {model_l1.score(x_train,y_train)*100:.2f}\")"
   ]
  },
  {
   "cell_type": "markdown",
   "metadata": {},
   "source": [
    "# Validation"
   ]
  },
  {
   "cell_type": "code",
   "execution_count": 397,
   "metadata": {},
   "outputs": [
    {
     "name": "stdout",
     "output_type": "stream",
     "text": [
      "The correctness of model with no regularizaion on testing data is: 207/220. 94.09%\n",
      "The correctness of model with l2 regularizaion on testing data is: 207/220. 94.09%\n",
      "The correctness of model with l1 regularizaion on testing data is: 207/220. 94.09%\n"
     ]
    }
   ],
   "source": [
    "\n",
    "y_noReg_pred = pd.Series(model.predict(x_valid))\n",
    "y_l2Reg_pred = pd.Series(model_l2.predict(x_valid))\n",
    "y_l1Reg_pred = pd.Series(model_l1.predict(x_valid))\n",
    "count_non = 0\n",
    "count_l2 = 0\n",
    "count_l1 = 0\n",
    "leng = len(y_noReg_pred)\n",
    "for i in range(leng):\n",
    "    if y_noReg_pred.iloc[i] == y_valid.iloc[i]:\n",
    "        count_non+=1\n",
    "    if y_l2Reg_pred.iloc[i] == y_valid.iloc[i]:\n",
    "        count_l2+=1\n",
    "    if y_l1Reg_pred.iloc[i] == y_valid.iloc[i]:\n",
    "        count_l1+=1\n",
    "        \n",
    "        \n",
    "print(f\"The correctness of model with no regularizaion on testing data is: {count_non}/{leng}. {(count_non/leng)*100:.2f}%\")\n",
    "print(f\"The correctness of model with l2 regularizaion on testing data is: {count_l2}/{leng}. {(count_l2/leng)*100:.2f}%\")\n",
    "print(f\"The correctness of model with l1 regularizaion on testing data is: {count_l1}/{leng}. {(count_l1/leng)*100:.2f}%\")"
   ]
  },
  {
   "cell_type": "markdown",
   "metadata": {},
   "source": [
    "# Final testing"
   ]
  },
  {
   "cell_type": "code",
   "execution_count": 398,
   "metadata": {},
   "outputs": [
    {
     "name": "stdout",
     "output_type": "stream",
     "text": [
      "For patient #1, We predict that the probability of this patient to have stroke is 10.21%, and does not have a stroke. We predicted correctly.\n",
      "For patient #2, We predict that the probability of this patient to have stroke is 0.51%, and does not have a stroke. We predicted correctly.\n",
      "For patient #3, We predict that the probability of this patient to have stroke is 0.71%, and does not have a stroke. We predicted correctly.\n",
      "For patient #4, We predict that the probability of this patient to have stroke is 0.66%, and does not have a stroke. We predicted correctly.\n",
      "For patient #5, We predict that the probability of this patient to have stroke is 24.98%, and does not have a stroke. We didn't predict correctly.\n"
     ]
    }
   ],
   "source": [
    "y_final_pred = pd.Series(model.predict(x_test))\n",
    "y_final_prob = pd.DataFrame(model.predict_proba(x_test))\n",
    "leng = len(y_final_pred)\n",
    "\n",
    "for i in range(leng):\n",
    "    print(f\"For patient #{i+1},\",end=\" \")\n",
    "    print(f\"We predict that the probability of this patient to have stroke is {y_final_prob.iloc[i,1]*100:.2f}%,\",end=\" \")\n",
    "    if y_final_pred.iloc[i] == 0:\n",
    "        print(\"and does not have a stroke.\",end=\" \")\n",
    "    elif y_final_pred.iloc[i] == 1:\n",
    "        print(\"and has a stroke.\",end=\" \")\n",
    "    if y_final_pred.iloc[i]==y_test.iloc[i]:\n",
    "        print(\"We predicted correctly.\")\n",
    "    else:\n",
    "        print(\"We didn't predict correctly.\")"
   ]
  }
 ],
 "metadata": {
  "kernelspec": {
   "display_name": "Python 3",
   "language": "python",
   "name": "python3"
  },
  "language_info": {
   "codemirror_mode": {
    "name": "ipython",
    "version": 3
   },
   "file_extension": ".py",
   "mimetype": "text/x-python",
   "name": "python",
   "nbconvert_exporter": "python",
   "pygments_lexer": "ipython3",
   "version": "3.9.7"
  },
  "orig_nbformat": 4
 },
 "nbformat": 4,
 "nbformat_minor": 2
}
